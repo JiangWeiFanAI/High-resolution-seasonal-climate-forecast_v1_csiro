{
 "cells": [
  {
   "cell_type": "code",
   "execution_count": 1,
   "metadata": {},
   "outputs": [
    {
     "name": "stdout",
     "output_type": "stream",
     "text": [
      "2.5114674452354135\n"
     ]
    }
   ],
   "source": [
    "#for debuging on my computer\n",
    "import os\n",
    "import data_processing_tool as dpt\n",
    "from datetime import timedelta, date, datetime\n",
    "from args_parameter import args\n",
    "from PrepareData import ACCESS_v1\n",
    "\n",
    "import torch,os,torchvision\n",
    "import torch.nn as nn\n",
    "import torch.nn.functional as F\n",
    "\n",
    "import numpy as np\n",
    "import matplotlib.pyplot as plt\n",
    "from torch.utils.data import DataLoader,random_split\n",
    "from torchvision import datasets, models, transforms\n",
    "import torch.nn as nn\n",
    "import torch.optim as optim\n",
    "\n",
    "# from PIL import Image\n",
    "import time\n",
    "from sklearn.model_selection import StratifiedShuffleSplit\n",
    "import model\n",
    "import utility\n",
    "from tqdm import tqdm\n",
    "import math\n",
    "import xarray as xr\n",
    "\n",
    "file_ACCESS_dir=\"F:/climate/access-s1/pr/daily/\"\n",
    "file_BARRA_dir=\"C:/Users/JIA059/barra/\"\n",
    "\n",
    "# ensemble=['e01','e02']\n",
    "ensemble=['e01','e02']\n",
    "access_rgb_mean= 2.9067910245780248e-05*86400\n",
    "\n",
    "leading_time=217\n",
    "leading_time_we_use=31\n",
    "\n",
    "\n",
    "init_date=date(1970, 1, 1)\n",
    "start_date=date(1990, 1, 2)\n",
    "end_date=date(2018,12,31) #if 929 is true we should substract 1 day\n",
    "dates=[start_date + timedelta(x) for x in range((end_date - start_date).days + 1)]\n",
    "print(access_rgb_mean)"
   ]
  },
  {
   "cell_type": "code",
   "execution_count": 2,
   "metadata": {},
   "outputs": [
    {
     "name": "stdout",
     "output_type": "stream",
     "text": [
      "65502\n"
     ]
    }
   ],
   "source": [
    "train_transforms = transforms.Compose([\n",
    "#     transforms.Resize(IMG_SIZE),\n",
    "#     transforms.RandomResizedCrop(IMG_SIZE),\n",
    "#     transforms.RandomHorizontalFlip(),\n",
    "#     transforms.RandomRotation(30),\n",
    "    transforms.ToTensor()\n",
    "#     transforms.Normalize(IMG_MEAN, IMG_STD)\n",
    "])\n",
    "\n",
    "data_set=ACCESS_v1(start_date,end_date,transform=train_transforms)\n",
    "\n",
    "train_dataloders =DataLoader(data_set,\n",
    "                                        batch_size=args.batch_size,\n",
    "                                        shuffle=False)\n",
    "print(len(data_set))"
   ]
  },
  {
   "cell_type": "code",
   "execution_count": 3,
   "metadata": {},
   "outputs": [],
   "source": [
    "args.cpu=True\n",
    "# args.pre_train =False\n",
    "# args.pre_train =\"C:/Users/JIA059/climate_v1_csiro/High-resolution-seasonal-climate-forecast_v1_csiro/model/RCAN_BIX\"+str(args.scale[0])+\".pt\"\n",
    "# \"C:/Users/JIA059/climate_v1_csiro/High-resolution-seasonal-climate-forecast_v1_csiro/model\"\n",
    "def prepare( l, volatile=False):\n",
    "    device = torch.device('cpu' if args.cpu else 'cuda')\n",
    "    def _prepare(tensor):\n",
    "        if args.precision == 'half': tensor = tensor.half()\n",
    "        return tensor.to(device)\n",
    "\n",
    "    return [_prepare(_l) for _l in l]\n",
    "\n"
   ]
  },
  {
   "cell_type": "code",
   "execution_count": 4,
   "metadata": {},
   "outputs": [
    {
     "name": "stdout",
     "output_type": "stream",
     "text": [
      "65502\n",
      "batch: 0,time cost 2.334752 s\n"
     ]
    }
   ],
   "source": [
    "#training\n",
    "training_name=\"temp01\"\n",
    "\n",
    "num=0\n",
    "total=0\n",
    "\n",
    "max_value=0\n",
    "min_value=10000\n",
    "\n",
    "\n",
    "start=time.time()\n",
    "print(len(data_set))\n",
    "    \n",
    "for batch, lr in enumerate(train_dataloders):\n",
    "\n",
    "    lr= prepare([lr])\n",
    "    num+=lr[0].shape[0]*lr[0].shape[1]*lr[0].shape[2]*args.batch_size\n",
    "    total+=torch.sum(lr[0])\n",
    "    \n",
    "    a=torch.max(lr[0])\n",
    "    if max_value< a:\n",
    "        max_value=a\n",
    "        \n",
    "    b=torch.min(lr[0])\n",
    "    \n",
    "    if min_value>b :\n",
    "        min_value=b\n",
    "\n",
    "    print(\"batch: %d,time cost %f s\"%(batch,time.time()-start))\n",
    "    break\n",
    "\n",
    "\n",
    "    \n"
   ]
  },
  {
   "cell_type": "code",
   "execution_count": 5,
   "metadata": {},
   "outputs": [
    {
     "name": "stdout",
     "output_type": "stream",
     "text": [
      "tensor(118.5739, dtype=torch.float64)\n"
     ]
    }
   ],
   "source": [
    "print(max_value)"
   ]
  }
 ],
 "metadata": {
  "kernelspec": {
   "display_name": "Python 3",
   "language": "python",
   "name": "python3"
  },
  "language_info": {
   "codemirror_mode": {
    "name": "ipython",
    "version": 3
   },
   "file_extension": ".py",
   "mimetype": "text/x-python",
   "name": "python",
   "nbconvert_exporter": "python",
   "pygments_lexer": "ipython3",
   "version": "3.7.5"
  }
 },
 "nbformat": 4,
 "nbformat_minor": 2
}
