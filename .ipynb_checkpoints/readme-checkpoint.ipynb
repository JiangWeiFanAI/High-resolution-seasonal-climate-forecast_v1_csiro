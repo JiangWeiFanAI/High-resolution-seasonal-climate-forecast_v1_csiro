{
 "cells": [
  {
   "cell_type": "markdown",
   "metadata": {},
   "source": [
    "*2020/1/17*\n"
   ]
  },
  {
   "cell_type": "markdown",
   "metadata": {},
   "source": [
    "environment set up\n",
    "\n",
    "anaconda3:\n",
    "\n",
    "pip install :\n",
    "    \n",
    "    torch: conda install pytorch torchvision cudatoolkit=10.1 -c pytorch\n",
    "    basemap: https://blog.csdn.net/u011596455/article/details/79620676 \n",
    "            but no for ubuntu\n",
    "    scipy\n",
    "    scikit-learn\n",
    "    scikit-image\n",
    "    xarray\n",
    "    opencv-python\n",
    "    netCDF4\n",
    "    tqdm\n",
    "    libtiff https://blog.csdn.net/ghisdeer/article/details/89846744\n",
    "        for ubuntu ,just pip3 install libtiff [--user]\n",
    "        "
   ]
  }
 ],
 "metadata": {
  "kernelspec": {
   "display_name": "Python 3",
   "language": "python",
   "name": "python3"
  },
  "language_info": {
   "codemirror_mode": {
    "name": "ipython",
    "version": 3
   },
   "file_extension": ".py",
   "mimetype": "text/x-python",
   "name": "python",
   "nbconvert_exporter": "python",
   "pygments_lexer": "ipython3",
   "version": "3.7.6"
  }
 },
 "nbformat": 4,
 "nbformat_minor": 2
}
