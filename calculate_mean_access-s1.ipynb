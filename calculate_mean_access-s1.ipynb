{
 "cells": [
  {
   "cell_type": "code",
   "execution_count": 38,
   "metadata": {
    "scrolled": true
   },
   "outputs": [
    {
     "name": "stderr",
     "output_type": "stream",
     "text": [
      "\r",
      "  0%|                                                                                            | 0/8 [00:00<?, ?it/s]"
     ]
    },
    {
     "name": "stdout",
     "output_type": "stream",
     "text": [
      "the length of dataset: 8\n",
      "0\n"
     ]
    },
    {
     "name": "stderr",
     "output_type": "stream",
     "text": [
      "\r",
      " 12%|██████████▌                                                                         | 1/8 [00:04<00:33,  4.84s/it]"
     ]
    },
    {
     "name": "stdout",
     "output_type": "stream",
     "text": [
      "\n",
      "\n"
     ]
    },
    {
     "name": "stderr",
     "output_type": "stream",
     "text": [
      "\r",
      " 25%|█████████████████████                                                               | 2/8 [00:08<00:27,  4.61s/it]"
     ]
    },
    {
     "name": "stdout",
     "output_type": "stream",
     "text": [
      "\n",
      "\n"
     ]
    },
    {
     "name": "stderr",
     "output_type": "stream",
     "text": [
      "\r",
      " 38%|███████████████████████████████▌                                                    | 3/8 [00:12<00:21,  4.30s/it]"
     ]
    },
    {
     "name": "stdout",
     "output_type": "stream",
     "text": [
      "\n",
      "\n"
     ]
    },
    {
     "name": "stderr",
     "output_type": "stream",
     "text": [
      "\r",
      " 50%|██████████████████████████████████████████                                          | 4/8 [00:16<00:16,  4.12s/it]"
     ]
    },
    {
     "name": "stdout",
     "output_type": "stream",
     "text": [
      "\n",
      "\n"
     ]
    },
    {
     "name": "stderr",
     "output_type": "stream",
     "text": [
      "\r",
      " 62%|████████████████████████████████████████████████████▌                               | 5/8 [00:19<00:11,  3.97s/it]"
     ]
    },
    {
     "name": "stdout",
     "output_type": "stream",
     "text": [
      "\n",
      "\n"
     ]
    },
    {
     "name": "stderr",
     "output_type": "stream",
     "text": [
      "\r",
      " 75%|███████████████████████████████████████████████████████████████                     | 6/8 [00:23<00:08,  4.03s/it]"
     ]
    },
    {
     "name": "stdout",
     "output_type": "stream",
     "text": [
      "\n",
      "\n"
     ]
    },
    {
     "name": "stderr",
     "output_type": "stream",
     "text": [
      "\r",
      " 88%|█████████████████████████████████████████████████████████████████████████▌          | 7/8 [00:27<00:03,  3.89s/it]"
     ]
    },
    {
     "name": "stdout",
     "output_type": "stream",
     "text": [
      "\n",
      "\n"
     ]
    },
    {
     "name": "stderr",
     "output_type": "stream",
     "text": [
      "100%|████████████████████████████████████████████████████████████████████████████████████| 8/8 [00:31<00:00,  3.90s/it]"
     ]
    },
    {
     "name": "stdout",
     "output_type": "stream",
     "text": [
      "\n",
      "\n",
      "rgb_mean: 2.5069986548583554\n",
      "rgb_mean_real: 0.002038806477082321\n",
      "max_value: 1229.6403229236603\n",
      "min_value: 834.0024769306183\n"
     ]
    },
    {
     "name": "stderr",
     "output_type": "stream",
     "text": [
      "\n"
     ]
    }
   ],
   "source": [
    "import data_processing_tool as dpt\n",
    "from netCDF4 import Dataset as netDataset\n",
    "import os\n",
    "from datetime import timedelta, date, datetime\n",
    "from tqdm import tqdm\n",
    "import time\n",
    "import numpy as np\n",
    "\n",
    "\n",
    "\n",
    "\n",
    "file_access_dir=\"F:/climate/access-s1/pr/daily/\"\n",
    "ensemble=['e01','e02']\n",
    "\n",
    "init_date=date(1970, 1, 1)\n",
    "start_date=date(1990, 1, 1)\n",
    "end_date=date(1990,1,31)\n",
    "leading_time=217\n",
    "leading_time_we_use=31\n",
    "dates=[start_date + timedelta(x) for x in range((end_date - start_date).days + 1)]\n",
    "\n",
    "def get_filename(rootdir):\n",
    "    '''get filename first and generate label '''\n",
    "    _files = []\n",
    "    for en in ensemble:\n",
    "        for date in dates:\n",
    "            filename=\"da_pr_\"+date.strftime(\"%Y%m%d\")+\"_\"+en+\".nc\"\n",
    "            access_path=file_access_dir+en+\"/\"+\"da_pr_\"+date.strftime(\"%Y%m%d\")+\"_\"+en+\".nc\"\n",
    "            if os.path.exists(access_path):\n",
    "                path=access_path\n",
    "                _files.append(path)\n",
    "    return _files\n",
    "\n",
    "a=get_filename(file_access_dir)\n",
    "print(\"the length of dataset: \"+str(len(a)))\n",
    "num=324*432*217*len(a)\n",
    "num=0\n",
    "print(num)\n",
    "leading_time=217\n",
    "total=0\n",
    "\n",
    "max_value=0\n",
    "min_value=10000\n",
    "shape=[]\n",
    "for filename in tqdm(a):\n",
    "    \n",
    "    data=netDataset(filename)\n",
    "    num+=data[\"pr\"][:].shape[0]*data[\"pr\"][:].shape[1]*data[\"pr\"][:].shape[2]\n",
    "    total+=np.sum(data[\"pr\"][:])*86400\n",
    "    if max_value< (np.max(data[\"pr\"][:])*86400):\n",
    "        max_value=np.max(data[\"pr\"][:])*86400\n",
    "    if min_value> np.min(np.max(data[\"pr\"][:])*86400):\n",
    "        min_value=np.min(np.max(data[\"pr\"][:])*86400)\n",
    "    print(\"\\n\")\n",
    "#     print(data[\"pr\"][:].sum())\n",
    "print(\"rgb_mean: \"+str(total/num))\n",
    "print(\"rgb_mean_real: \"+str((total/num)/max_value ))\n",
    "\n",
    "print(\"max_value: \"+str(max_value))\n",
    "print(\"min_value: \"+str(min_value))\n",
    "\n",
    "\n",
    "# rgb_mean: 2.527216385945923"
   ]
  },
  {
   "cell_type": "code",
   "execution_count": 40,
   "metadata": {},
   "outputs": [
    {
     "name": "stdout",
     "output_type": "stream",
     "text": [
      "244944000\n"
     ]
    },
    {
     "data": {
      "text/plain": [
       "242984448"
      ]
     },
     "execution_count": 40,
     "metadata": {},
     "output_type": "execute_result"
    }
   ],
   "source": [
    "print(num)\n",
    "324*432*217*len(a)"
   ]
  },
  {
   "cell_type": "code",
   "execution_count": 16,
   "metadata": {},
   "outputs": [
    {
     "data": {
      "text/plain": [
       "1229.6403229236603"
      ]
     },
     "execution_count": 16,
     "metadata": {},
     "output_type": "execute_result"
    }
   ],
   "source": [
    "shape[1]*86400"
   ]
  },
  {
   "cell_type": "code",
   "execution_count": 1,
   "metadata": {},
   "outputs": [],
   "source": [
    "str= \"./this.txt\"\n",
    "f = open(str,\"w\")\n",
    "f.write(\"hello world1243\")\n",
    "f.close()"
   ]
  },
  {
   "cell_type": "code",
   "execution_count": 37,
   "metadata": {},
   "outputs": [
    {
     "name": "stdout",
     "output_type": "stream",
     "text": [
      "0.0031979517\n"
     ]
    }
   ],
   "source": [
    "a=[]\n",
    "for i in data[\"pr\"][0]:\n",
    "#     print(np.max(i.ravel() ))\n",
    "    a.append(np.max(i.ravel() ))\n",
    "#     print(i)\n",
    "#     print(np.max(i))\n",
    "print(np.max(a))"
   ]
  }
 ],
 "metadata": {
  "kernelspec": {
   "display_name": "Python 3",
   "language": "python",
   "name": "python3"
  },
  "language_info": {
   "codemirror_mode": {
    "name": "ipython",
    "version": 3
   },
   "file_extension": ".py",
   "mimetype": "text/x-python",
   "name": "python",
   "nbconvert_exporter": "python",
   "pygments_lexer": "ipython3",
   "version": "3.7.5"
  }
 },
 "nbformat": 4,
 "nbformat_minor": 2
}
