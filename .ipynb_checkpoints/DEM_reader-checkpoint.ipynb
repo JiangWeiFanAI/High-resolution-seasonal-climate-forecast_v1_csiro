{
 "cells": [
  {
   "cell_type": "code",
   "execution_count": 2,
   "metadata": {},
   "outputs": [
    {
     "ename": "ModuleNotFoundError",
     "evalue": "No module named 'libtiff'",
     "output_type": "error",
     "traceback": [
      "\u001b[1;31m---------------------------------------------------------------------------\u001b[0m",
      "\u001b[1;31mModuleNotFoundError\u001b[0m                       Traceback (most recent call last)",
      "\u001b[1;32m<ipython-input-2-fce1da0b33e8>\u001b[0m in \u001b[0;36m<module>\u001b[1;34m\u001b[0m\n\u001b[1;32m----> 1\u001b[1;33m \u001b[1;32mfrom\u001b[0m \u001b[0mlibtiff\u001b[0m \u001b[1;32mimport\u001b[0m \u001b[0mTIFF\u001b[0m\u001b[1;33m\u001b[0m\u001b[1;33m\u001b[0m\u001b[0m\n\u001b[0m\u001b[0;32m      2\u001b[0m \u001b[1;32mimport\u001b[0m \u001b[0mcv2\u001b[0m\u001b[1;33m\u001b[0m\u001b[1;33m\u001b[0m\u001b[0m\n\u001b[0;32m      3\u001b[0m \u001b[1;32mimport\u001b[0m \u001b[0margs_parameter\u001b[0m \u001b[1;32mas\u001b[0m \u001b[0margs\u001b[0m\u001b[1;33m\u001b[0m\u001b[1;33m\u001b[0m\u001b[0m\n\u001b[0;32m      4\u001b[0m \u001b[1;31m# from scipy import misc\u001b[0m\u001b[1;33m\u001b[0m\u001b[1;33m\u001b[0m\u001b[1;33m\u001b[0m\u001b[0m\n\u001b[0;32m      5\u001b[0m \u001b[1;33m\u001b[0m\u001b[0m\n",
      "\u001b[1;31mModuleNotFoundError\u001b[0m: No module named 'libtiff'"
     ]
    }
   ],
   "source": [
    "from libtiff import TIFF\n",
    "import cv2\n",
    "import args_parameter as args\n",
    "# from scipy import misc  \n",
    "  \n",
    "def interp_tensor_2d(X, size, fill=True):\n",
    "    if fill:\n",
    "        X[np.isnan(X)]=0\n",
    "    scaled_tensor = cv2.resize(X, (size[1], size[0]),interpolation=cv2.INTER_CUBIC)\n",
    "    return scaled_tensor"
   ]
  },
  {
   "cell_type": "code",
   "execution_count": 3,
   "metadata": {},
   "outputs": [
    {
     "ename": "NameError",
     "evalue": "name 'TIFF' is not defined",
     "output_type": "error",
     "traceback": [
      "\u001b[1;31m---------------------------------------------------------------------------\u001b[0m",
      "\u001b[1;31mNameError\u001b[0m                                 Traceback (most recent call last)",
      "\u001b[1;32m<ipython-input-3-ed4ec32feb09>\u001b[0m in \u001b[0;36m<module>\u001b[1;34m\u001b[0m\n\u001b[0;32m     13\u001b[0m \u001b[0mfilename_DEM\u001b[0m\u001b[1;33m=\u001b[0m\u001b[1;34m\"./DEM/\"\u001b[0m\u001b[1;33m+\u001b[0m\u001b[1;34m\"dem-9s1.tif\"\u001b[0m\u001b[1;33m\u001b[0m\u001b[1;33m\u001b[0m\u001b[0m\n\u001b[0;32m     14\u001b[0m \u001b[1;33m\u001b[0m\u001b[0m\n\u001b[1;32m---> 15\u001b[1;33m \u001b[0mdem_data\u001b[0m\u001b[1;33m=\u001b[0m\u001b[0mread_dem\u001b[0m\u001b[1;33m(\u001b[0m\u001b[0mfilename_DEM\u001b[0m\u001b[1;33m)\u001b[0m\u001b[1;33m\u001b[0m\u001b[1;33m\u001b[0m\u001b[0m\n\u001b[0m",
      "\u001b[1;32m<ipython-input-3-ed4ec32feb09>\u001b[0m in \u001b[0;36mread_dem\u001b[1;34m(filename)\u001b[0m\n\u001b[0;32m      1\u001b[0m \u001b[1;32mdef\u001b[0m \u001b[0mread_dem\u001b[0m\u001b[1;33m(\u001b[0m\u001b[0mfilename\u001b[0m\u001b[1;33m)\u001b[0m\u001b[1;33m:\u001b[0m\u001b[1;33m\u001b[0m\u001b[1;33m\u001b[0m\u001b[0m\n\u001b[1;32m----> 2\u001b[1;33m     \u001b[0mtif\u001b[0m \u001b[1;33m=\u001b[0m \u001b[0mTIFF\u001b[0m\u001b[1;33m.\u001b[0m\u001b[0mopen\u001b[0m\u001b[1;33m(\u001b[0m\u001b[0mfilename\u001b[0m\u001b[1;33m,\u001b[0m\u001b[0mmode\u001b[0m\u001b[1;33m=\u001b[0m\u001b[1;34m'r'\u001b[0m\u001b[1;33m)\u001b[0m\u001b[1;33m\u001b[0m\u001b[1;33m\u001b[0m\u001b[0m\n\u001b[0m\u001b[0;32m      3\u001b[0m     \u001b[0mstack\u001b[0m \u001b[1;33m=\u001b[0m \u001b[1;33m[\u001b[0m\u001b[1;33m]\u001b[0m\u001b[1;33m\u001b[0m\u001b[1;33m\u001b[0m\u001b[0m\n\u001b[0;32m      4\u001b[0m     \u001b[1;32mfor\u001b[0m \u001b[0mimg\u001b[0m \u001b[1;32min\u001b[0m \u001b[0mlist\u001b[0m\u001b[1;33m(\u001b[0m\u001b[0mtif\u001b[0m\u001b[1;33m.\u001b[0m\u001b[0miter_images\u001b[0m\u001b[1;33m(\u001b[0m\u001b[1;33m)\u001b[0m\u001b[1;33m)\u001b[0m\u001b[1;33m:\u001b[0m\u001b[1;33m\u001b[0m\u001b[1;33m\u001b[0m\u001b[0m\n\u001b[0;32m      5\u001b[0m         \u001b[0mstack\u001b[0m\u001b[1;33m.\u001b[0m\u001b[0mappend\u001b[0m\u001b[1;33m(\u001b[0m\u001b[0mimg\u001b[0m\u001b[1;33m)\u001b[0m\u001b[1;33m\u001b[0m\u001b[1;33m\u001b[0m\u001b[0m\n",
      "\u001b[1;31mNameError\u001b[0m: name 'TIFF' is not defined"
     ]
    }
   ],
   "source": [
    "def read_dem(filename):\n",
    "    tif = TIFF.open(filename,mode='r')\n",
    "    stack = []\n",
    "    for img in list(tif.iter_images()):\n",
    "        stack.append(img)\n",
    "        \n",
    "    dem_np=np.array(stack)\n",
    "    dem_np=dem_np.transpose(1,2,0)\n",
    "    return demp_np\n",
    "\n",
    "# print(args.cpu)\n",
    "# filename_DEM=args.file_DEM_dir+\"dem-9s1.tif\"\n",
    "filename_DEM=\"./DEM/\"+\"dem-9s1.tif\"\n",
    "\n",
    "dem_data=read_dem(filename_DEM)"
   ]
  },
  {
   "cell_type": "code",
   "execution_count": null,
   "metadata": {},
   "outputs": [],
   "source": [
    "# dem_tif= TIFF.open(\"./DEM/dem-9s1.tif\", mode = \"r\") \n",
    "# import numpy as np\n",
    "# def tiff2Stack(filePath):\n",
    "#     tif = TIFF.open(filePath,mode='r')\n",
    "#     stack = []\n",
    "#     for img in list(tif.iter_images()):\n",
    "#         stack.append(img)\n",
    "#     return stack\n",
    "# # dem=tiff2Stack(\"./DEM/dem-9s1.tif\")\n",
    "# dem_np=np.array(tiff2Stack(\"./DEM/dem-9s1.tif\"))\n",
    "# dem_np=dem_np.transpose(1,2,0)\n",
    "# dem_np.shape"
   ]
  },
  {
   "cell_type": "code",
   "execution_count": null,
   "metadata": {},
   "outputs": [],
   "source": []
  }
 ],
 "metadata": {
  "kernelspec": {
   "display_name": "Python 3",
   "language": "python",
   "name": "python3"
  },
  "language_info": {
   "codemirror_mode": {
    "name": "ipython",
    "version": 3
   },
   "file_extension": ".py",
   "mimetype": "text/x-python",
   "name": "python",
   "nbconvert_exporter": "python",
   "pygments_lexer": "ipython3",
   "version": "3.8.1"
  }
 },
 "nbformat": 4,
 "nbformat_minor": 4
}
