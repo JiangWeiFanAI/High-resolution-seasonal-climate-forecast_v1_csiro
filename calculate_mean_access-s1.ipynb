{
 "cells": [
  {
   "cell_type": "code",
   "execution_count": 14,
   "metadata": {},
   "outputs": [
    {
     "name": "stderr",
     "output_type": "stream",
     "text": [
      "\r",
      "  0%|                                                                                            | 0/8 [00:00<?, ?it/s]"
     ]
    },
    {
     "name": "stdout",
     "output_type": "stream",
     "text": [
      "the length of dataset: 8\n",
      "242984448\n"
     ]
    },
    {
     "name": "stderr",
     "output_type": "stream",
     "text": [
      "\r",
      " 12%|██████████▌                                                                         | 1/8 [00:00<00:04,  1.63it/s]"
     ]
    },
    {
     "name": "stdout",
     "output_type": "stream",
     "text": [
      "F:/climate/access-s1/pr/daily/e01/da_pr_19900101_e01.nc\n"
     ]
    },
    {
     "name": "stderr",
     "output_type": "stream",
     "text": [
      "\r",
      " 25%|█████████████████████                                                               | 2/8 [00:01<00:03,  1.63it/s]"
     ]
    },
    {
     "name": "stdout",
     "output_type": "stream",
     "text": [
      "F:/climate/access-s1/pr/daily/e01/da_pr_19900109_e01.nc\n"
     ]
    },
    {
     "name": "stderr",
     "output_type": "stream",
     "text": [
      "\r",
      " 38%|███████████████████████████████▌                                                    | 3/8 [00:01<00:03,  1.60it/s]"
     ]
    },
    {
     "name": "stdout",
     "output_type": "stream",
     "text": [
      "F:/climate/access-s1/pr/daily/e01/da_pr_19900117_e01.nc\n"
     ]
    },
    {
     "name": "stderr",
     "output_type": "stream",
     "text": [
      "\r",
      " 50%|██████████████████████████████████████████                                          | 4/8 [00:02<00:02,  1.60it/s]"
     ]
    },
    {
     "name": "stdout",
     "output_type": "stream",
     "text": [
      "F:/climate/access-s1/pr/daily/e01/da_pr_19900125_e01.nc\n"
     ]
    },
    {
     "name": "stderr",
     "output_type": "stream",
     "text": [
      "\r",
      " 62%|████████████████████████████████████████████████████▌                               | 5/8 [00:03<00:01,  1.62it/s]"
     ]
    },
    {
     "name": "stdout",
     "output_type": "stream",
     "text": [
      "F:/climate/access-s1/pr/daily/e02/da_pr_19900101_e02.nc\n"
     ]
    },
    {
     "name": "stderr",
     "output_type": "stream",
     "text": [
      "\r",
      " 75%|███████████████████████████████████████████████████████████████                     | 6/8 [00:03<00:01,  1.63it/s]"
     ]
    },
    {
     "name": "stdout",
     "output_type": "stream",
     "text": [
      "F:/climate/access-s1/pr/daily/e02/da_pr_19900109_e02.nc\n"
     ]
    },
    {
     "name": "stderr",
     "output_type": "stream",
     "text": [
      "\r",
      " 88%|█████████████████████████████████████████████████████████████████████████▌          | 7/8 [00:04<00:00,  1.63it/s]"
     ]
    },
    {
     "name": "stdout",
     "output_type": "stream",
     "text": [
      "F:/climate/access-s1/pr/daily/e02/da_pr_19900117_e02.nc\n"
     ]
    },
    {
     "name": "stderr",
     "output_type": "stream",
     "text": [
      "100%|████████████████████████████████████████████████████████████████████████████████████| 8/8 [00:04<00:00,  1.61it/s]"
     ]
    },
    {
     "name": "stdout",
     "output_type": "stream",
     "text": [
      "F:/climate/access-s1/pr/daily/e02/da_pr_19900125_e02.nc\n",
      "rgb_mean: 2.9250189652151882e-05\n"
     ]
    },
    {
     "name": "stderr",
     "output_type": "stream",
     "text": [
      "\n"
     ]
    }
   ],
   "source": [
    "import data_processing_tool as dpt\n",
    "from netCDF4 import Dataset as netDataset\n",
    "import os\n",
    "from datetime import timedelta, date, datetime\n",
    "from tqdm import tqdm\n",
    "import time\n",
    "import numpy as np\n",
    "\n",
    "\n",
    "\n",
    "\n",
    "file_access_dir=\"F:/climate/access-s1/pr/daily/\"\n",
    "ensemble=['e01','e02']\n",
    "\n",
    "init_date=date(1970, 1, 1)\n",
    "start_date=date(1990, 1, 1)\n",
    "end_date=date(1990,1,31)\n",
    "leading_time=217\n",
    "leading_time_we_use=31\n",
    "dates=[start_date + timedelta(x) for x in range((end_date - start_date).days + 1)]\n",
    "\n",
    "def get_filename(rootdir):\n",
    "    '''get filename first and generate label '''\n",
    "    _files = []\n",
    "    for en in ensemble:\n",
    "        for date in dates:\n",
    "            filename=\"da_pr_\"+date.strftime(\"%Y%m%d\")+\"_\"+en+\".nc\"\n",
    "            access_path=file_access_dir+en+\"/\"+\"da_pr_\"+date.strftime(\"%Y%m%d\")+\"_\"+en+\".nc\"\n",
    "            if os.path.exists(access_path):\n",
    "                path=access_path\n",
    "                _files.append(path)\n",
    "    return _files\n",
    "\n",
    "a=get_filename(file_access_dir)\n",
    "print(\"the length of dataset: \"+str(len(a)))\n",
    "num=324*432*217*len(a)\n",
    "print(num)\n",
    "leading_time=217\n",
    "total=0\n",
    "\n",
    "for filename in tqdm(a):\n",
    "    data=netDataset(filename)\n",
    "    total+=np.sum(data[\"pr\"][:])\n",
    "    print(filename)\n",
    "#     print(data[\"pr\"][:].sum())\n",
    "print(\"rgb_mean: \"+str(total/num))"
   ]
  }
 ],
 "metadata": {
  "kernelspec": {
   "display_name": "Python 3",
   "language": "python",
   "name": "python3"
  },
  "language_info": {
   "codemirror_mode": {
    "name": "ipython",
    "version": 3
   },
   "file_extension": ".py",
   "mimetype": "text/x-python",
   "name": "python",
   "nbconvert_exporter": "python",
   "pygments_lexer": "ipython3",
   "version": "3.7.5"
  }
 },
 "nbformat": 4,
 "nbformat_minor": 2
}
